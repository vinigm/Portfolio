{
  "nbformat": 4,
  "nbformat_minor": 0,
  "metadata": {
    "colab": {
      "name": "SupermarketAnalysis",
      "provenance": [],
      "authorship_tag": "ABX9TyMCYsFtc33/jzfIUOpKQjMy",
      "include_colab_link": true
    },
    "kernelspec": {
      "name": "python3",
      "display_name": "Python 3"
    },
    "language_info": {
      "name": "python"
    }
  },
  "cells": [
    {
      "cell_type": "markdown",
      "metadata": {
        "id": "view-in-github",
        "colab_type": "text"
      },
      "source": [
        "<a href=\"https://colab.research.google.com/github/vinigm/Portfolio/blob/main/SupermarketAnalysis.ipynb\" target=\"_parent\"><img src=\"https://colab.research.google.com/assets/colab-badge.svg\" alt=\"Open In Colab\"/></a>"
      ]
    },
    {
      "cell_type": "markdown",
      "source": [
        "# **Supermarket Store Branch Sales Analysis**\n",
        "---\n",
        "\n"
      ],
      "metadata": {
        "id": "0BEeo_WZ9n7g"
      }
    },
    {
      "cell_type": "code",
      "source": [
        "from google.colab import drive\n"
      ],
      "metadata": {
        "id": "i5AgRMiRBZhj"
      },
      "execution_count": null,
      "outputs": []
    }
  ]
}
