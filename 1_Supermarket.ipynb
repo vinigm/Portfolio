{
  "nbformat": 4,
  "nbformat_minor": 0,
  "metadata": {
    "colab": {
      "name": "1.Supermarket",
      "provenance": [],
      "authorship_tag": "ABX9TyOuoK0wwRGRlX6TnwSPulh0",
      "include_colab_link": true
    },
    "kernelspec": {
      "name": "python3",
      "display_name": "Python 3"
    },
    "language_info": {
      "name": "python"
    }
  },
  "cells": [
    {
      "cell_type": "markdown",
      "metadata": {
        "id": "view-in-github",
        "colab_type": "text"
      },
      "source": [
        "<a href=\"https://colab.research.google.com/github/vinigm/Portfolio/blob/main/1_Supermarket.ipynb\" target=\"_parent\"><img src=\"https://colab.research.google.com/assets/colab-badge.svg\" alt=\"Open In Colab\"/></a>"
      ]
    },
    {
      "cell_type": "markdown",
      "source": [
        "# **Supermarket Store Branch Sales Analysis**\n",
        "---\n",
        "\n"
      ],
      "metadata": {
        "id": "0BEeo_WZ9n7g"
      }
    },
    {
      "cell_type": "code",
      "source": [
        "from google.colab import drive\n",
        "drive.mount('/content/drive')"
      ],
      "metadata": {
        "colab": {
          "base_uri": "https://localhost:8080/"
        },
        "id": "i5AgRMiRBZhj",
        "outputId": "831ba019-b471-4383-e240-046def231506"
      },
      "execution_count": 1,
      "outputs": [
        {
          "output_type": "stream",
          "name": "stdout",
          "text": [
            "Mounted at /content/drive\n"
          ]
        }
      ]
    },
    {
      "cell_type": "code",
      "source": [
        "import pandas as pd"
      ],
      "metadata": {
        "id": "FWfwVS4BTa3l"
      },
      "execution_count": 2,
      "outputs": []
    },
    {
      "cell_type": "code",
      "source": [
        "# https://drive.google.com/file/d/1xKMbhX7g4UeTRggMj_tlhkkUBvdOuHtR/view?usp=sharing\n",
        "df = pd.read_csv('/content/drive/MyDrive/DataScience/Datasets/Supermarket store branches sales analysis/Stores.csv')"
      ],
      "metadata": {
        "id": "TzZLeACOE7ld"
      },
      "execution_count": 3,
      "outputs": []
    },
    {
      "cell_type": "code",
      "source": [
        "print(df.head())"
      ],
      "metadata": {
        "colab": {
          "base_uri": "https://localhost:8080/"
        },
        "id": "b3rxXmY2TgtY",
        "outputId": "4362e4e7-0239-4dd7-fc57-211493eda798"
      },
      "execution_count": 4,
      "outputs": [
        {
          "output_type": "stream",
          "name": "stdout",
          "text": [
            "   Store ID   Store_Area  Items_Available  Daily_Customer_Count  Store_Sales\n",
            "0          1        1659             1961                   530        66490\n",
            "1          2        1461             1752                   210        39820\n",
            "2          3        1340             1609                   720        54010\n",
            "3          4        1451             1748                   620        53730\n",
            "4          5        1770             2111                   450        46620\n"
          ]
        }
      ]
    }
  ]
}